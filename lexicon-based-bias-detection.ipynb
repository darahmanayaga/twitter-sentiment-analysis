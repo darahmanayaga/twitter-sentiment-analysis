{
 "cells": [
  {
   "cell_type": "code",
   "execution_count": 1,
   "metadata": {},
   "outputs": [],
   "source": [
    "# Import important libraries\n",
    "\n",
    "import pandas as pd\n",
    "from afinn import Afinn"
   ]
  },
  {
   "cell_type": "code",
   "execution_count": 2,
   "metadata": {},
   "outputs": [],
   "source": [
    "# Load AFINN lexicon\n",
    "afinn = Afinn()"
   ]
  },
  {
   "cell_type": "code",
   "execution_count": 3,
   "metadata": {},
   "outputs": [],
   "source": [
    "# Load data from CSV with no header, handling potential issues with the CSV file\n",
    "data = pd.read_csv(\"twitter_training.csv\", header=None, names=[\"ID\", \"Entity\", \"Sentiment\", \"Message\"], na_values=[\"NA\", \"NaN\", \"N/A\", \"\"])"
   ]
  },
  {
   "cell_type": "code",
   "execution_count": 4,
   "metadata": {},
   "outputs": [],
   "source": [
    "# Define bias thresholds\n",
    "positive_threshold = 3  # AFINN score indicating positive sentiment\n",
    "negative_threshold = -3  # AFINN score indicating negative sentiment"
   ]
  },
  {
   "cell_type": "code",
   "execution_count": 5,
   "metadata": {},
   "outputs": [],
   "source": [
    "# Detect bias in each message\n",
    "\n",
    "results = []\n",
    "\n",
    "for index, row in data.iterrows():\n",
    "    entity = row[\"Entity\"]\n",
    "    message = row[\"Message\"]\n",
    "    \n",
    "    # Check if message is not NaN\n",
    "    if pd.notna(message):\n",
    "        afinn_score = afinn.score(str(message))  # Convert to string to handle potential non-string data\n",
    "        if afinn_score > positive_threshold:\n",
    "            bias = \"Positive\"\n",
    "        elif afinn_score < negative_threshold:\n",
    "            bias = \"Negative\"\n",
    "        else:\n",
    "            bias = \"Neutral\"\n",
    "        results.append({\"Entity\": entity, \"Sentiment\": row[\"Sentiment\"], \"Message\": message, \"Bias\": bias})\n",
    "    else:\n",
    "        results.append({\"Entity\": entity, \"Sentiment\": row[\"Sentiment\"], \"Message\": \"Missing\", \"Bias\": \"Missing\"})"
   ]
  },
  {
   "cell_type": "code",
   "execution_count": 7,
   "metadata": {},
   "outputs": [],
   "source": [
    "# Create DataFrame from results\n",
    "results_df = pd.DataFrame(results)"
   ]
  },
  {
   "cell_type": "code",
   "execution_count": 9,
   "metadata": {},
   "outputs": [],
   "source": [
    "# Save the DataFrame to a CSV file\n",
    "results_df.to_csv('results.csv', index=False)"
   ]
  }
 ],
 "metadata": {
  "kernelspec": {
   "display_name": "base",
   "language": "python",
   "name": "python3"
  },
  "language_info": {
   "codemirror_mode": {
    "name": "ipython",
    "version": 3
   },
   "file_extension": ".py",
   "mimetype": "text/x-python",
   "name": "python",
   "nbconvert_exporter": "python",
   "pygments_lexer": "ipython3",
   "version": "3.10.2"
  }
 },
 "nbformat": 4,
 "nbformat_minor": 2
}
