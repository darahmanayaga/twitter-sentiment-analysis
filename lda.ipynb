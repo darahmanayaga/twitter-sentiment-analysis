{
 "cells": [
  {
   "cell_type": "code",
   "execution_count": 2,
   "metadata": {},
   "outputs": [],
   "source": [
    "import pandas as pd\n",
    "import gensim\n",
    "from gensim.utils import simple_preprocess\n",
    "from gensim.corpora import Dictionary\n",
    "from gensim.models import LdaModel"
   ]
  },
  {
   "cell_type": "code",
   "execution_count": 3,
   "metadata": {},
   "outputs": [],
   "source": [
    "# Load the data from CSV\n",
    "data = pd.read_csv('twitter_training.csv')"
   ]
  },
  {
   "cell_type": "code",
   "execution_count": 4,
   "metadata": {},
   "outputs": [],
   "source": [
    "# Preprocess the text data\n",
    "def preprocess(text):\n",
    "    return simple_preprocess(text, deacc=True)"
   ]
  },
  {
   "cell_type": "code",
   "execution_count": 5,
   "metadata": {},
   "outputs": [],
   "source": [
    "# Tokenize the text\n",
    "tokens = [preprocess(text) for text in data]"
   ]
  },
  {
   "cell_type": "code",
   "execution_count": 6,
   "metadata": {},
   "outputs": [],
   "source": [
    "# Create a dictionary and a corpus\n",
    "dictionary = Dictionary(tokens)\n",
    "corpus = [dictionary.doc2bow(token) for token in tokens]"
   ]
  },
  {
   "cell_type": "code",
   "execution_count": 7,
   "metadata": {},
   "outputs": [],
   "source": [
    "# Apply LDA model\n",
    "num_topics = 3  # You can adjust the number of topics\n",
    "lda_model = LdaModel(corpus, num_topics=num_topics, id2word=dictionary, passes=15)"
   ]
  },
  {
   "cell_type": "code",
   "execution_count": 8,
   "metadata": {},
   "outputs": [
    {
     "name": "stdout",
     "output_type": "stream",
     "text": [
      "Topic: 0 \n",
      "Words: 0.108*\"borderlands\" + 0.108*\"im\" + 0.108*\"murder\" + 0.108*\"will\" + 0.108*\"and\" + 0.108*\"getting\" + 0.108*\"you\" + 0.108*\"on\" + 0.108*\"all\" + 0.027*\"positive\"\n",
      "Topic: 1 \n",
      "Words: 0.306*\"positive\" + 0.078*\"borderlands\" + 0.077*\"all\" + 0.077*\"on\" + 0.077*\"you\" + 0.077*\"getting\" + 0.077*\"and\" + 0.077*\"im\" + 0.077*\"murder\" + 0.077*\"will\"\n",
      "Topic: 2 \n",
      "Words: 0.306*\"borderlands\" + 0.077*\"positive\" + 0.077*\"all\" + 0.077*\"on\" + 0.077*\"you\" + 0.077*\"getting\" + 0.077*\"and\" + 0.077*\"will\" + 0.077*\"murder\" + 0.077*\"im\"\n"
     ]
    }
   ],
   "source": [
    "# Interpret the results\n",
    "for idx, topic in lda_model.print_topics():\n",
    "    print(\"Topic: {} \\nWords: {}\".format(idx, topic))"
   ]
  },
  {
   "cell_type": "code",
   "execution_count": 9,
   "metadata": {},
   "outputs": [
    {
     "name": "stdout",
     "output_type": "stream",
     "text": [
      "Topic 0: 0.108*\"borderlands\" + 0.108*\"im\" + 0.108*\"murder\" + 0.108*\"will\" + 0.108*\"and\" + 0.108*\"getting\" + 0.108*\"you\" + 0.108*\"on\" + 0.108*\"all\" + 0.027*\"positive\"\n",
      "Top words for this topic:\n",
      "['borderlands', 'im', 'murder', 'will', 'and', 'getting', 'you', 'on', 'all', 'positive']\n",
      "\n",
      "\n",
      "Topic 1: 0.306*\"positive\" + 0.078*\"borderlands\" + 0.077*\"all\" + 0.077*\"on\" + 0.077*\"you\" + 0.077*\"getting\" + 0.077*\"and\" + 0.077*\"im\" + 0.077*\"murder\" + 0.077*\"will\"\n",
      "Top words for this topic:\n",
      "['positive', 'borderlands', 'all', 'on', 'you', 'getting', 'and', 'im', 'murder', 'will']\n",
      "\n",
      "\n",
      "Topic 2: 0.306*\"borderlands\" + 0.077*\"positive\" + 0.077*\"all\" + 0.077*\"on\" + 0.077*\"you\" + 0.077*\"getting\" + 0.077*\"and\" + 0.077*\"will\" + 0.077*\"murder\" + 0.077*\"im\"\n",
      "Top words for this topic:\n",
      "['borderlands', 'positive', 'all', 'on', 'you', 'getting', 'and', 'will', 'murder', 'im']\n",
      "\n",
      "\n"
     ]
    }
   ],
   "source": [
    "# Interpret the results and analyze language for each topic\n",
    "for idx, topic in lda_model.print_topics():\n",
    "    print(\"Topic {}: {}\".format(idx, topic))\n",
    "    print(\"Top words for this topic:\")\n",
    "    top_words = [word for word, _ in lda_model.show_topic(idx, topn=10)]  # Adjust topn as needed\n",
    "    print(top_words)\n",
    "    print(\"\\n\")"
   ]
  },
  {
   "cell_type": "code",
   "execution_count": null,
   "metadata": {},
   "outputs": [],
   "source": []
  }
 ],
 "metadata": {
  "kernelspec": {
   "display_name": "Python 3",
   "language": "python",
   "name": "python3"
  },
  "language_info": {
   "codemirror_mode": {
    "name": "ipython",
    "version": 3
   },
   "file_extension": ".py",
   "mimetype": "text/x-python",
   "name": "python",
   "nbconvert_exporter": "python",
   "pygments_lexer": "ipython3",
   "version": "3.11.6"
  }
 },
 "nbformat": 4,
 "nbformat_minor": 2
}
