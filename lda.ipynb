{
 "cells": [
  {
   "cell_type": "code",
   "execution_count": 3,
   "metadata": {},
   "outputs": [],
   "source": [
    "import pandas as pd\n",
    "import gensim\n",
    "from gensim.utils import simple_preprocess\n",
    "from gensim.corpora import Dictionary\n",
    "from gensim.models import LdaModel"
   ]
  },
  {
   "cell_type": "code",
   "execution_count": 4,
   "metadata": {},
   "outputs": [],
   "source": [
    "# Load the data from CSV\n",
    "data = pd.read_csv('twitter_training.csv')"
   ]
  },
  {
   "cell_type": "code",
   "execution_count": 5,
   "metadata": {},
   "outputs": [],
   "source": [
    "# Preprocess the text data\n",
    "def preprocess(text):\n",
    "    return simple_preprocess(text, deacc=True)"
   ]
  },
  {
   "cell_type": "code",
   "execution_count": 11,
   "metadata": {},
   "outputs": [],
   "source": [
    "# Tokenize the text\n",
    "tokens = [preprocess(text) for text in data]"
   ]
  },
  {
   "cell_type": "code",
   "execution_count": 12,
   "metadata": {},
   "outputs": [],
   "source": [
    "# Create a dictionary and a corpus\n",
    "dictionary = Dictionary(tokens)\n",
    "corpus = [dictionary.doc2bow(token) for token in tokens]"
   ]
  },
  {
   "cell_type": "code",
   "execution_count": 13,
   "metadata": {},
   "outputs": [],
   "source": [
    "# Apply LDA model\n",
    "num_topics = 3  # You can adjust the number of topics\n",
    "lda_model = LdaModel(corpus, num_topics=num_topics, id2word=dictionary, passes=15)"
   ]
  },
  {
   "cell_type": "code",
   "execution_count": 14,
   "metadata": {},
   "outputs": [
    {
     "name": "stdout",
     "output_type": "stream",
     "text": [
      "Topic: 0 \n",
      "Words: 0.104*\"positive\" + 0.101*\"borderlands\" + 0.099*\"and\" + 0.099*\"you\" + 0.099*\"getting\" + 0.099*\"will\" + 0.099*\"im\" + 0.099*\"all\" + 0.099*\"on\" + 0.099*\"murder\"\n",
      "Topic: 1 \n",
      "Words: 0.104*\"positive\" + 0.101*\"borderlands\" + 0.099*\"on\" + 0.099*\"and\" + 0.099*\"im\" + 0.099*\"murder\" + 0.099*\"will\" + 0.099*\"all\" + 0.099*\"getting\" + 0.099*\"you\"\n",
      "Topic: 2 \n",
      "Words: 0.163*\"borderlands\" + 0.093*\"you\" + 0.093*\"getting\" + 0.093*\"all\" + 0.093*\"will\" + 0.093*\"murder\" + 0.093*\"im\" + 0.093*\"and\" + 0.093*\"on\" + 0.091*\"positive\"\n"
     ]
    }
   ],
   "source": [
    "# Interpret the results\n",
    "for idx, topic in lda_model.print_topics():\n",
    "    print(\"Topic: {} \\nWords: {}\".format(idx, topic))"
   ]
  },
  {
   "cell_type": "code",
   "execution_count": 15,
   "metadata": {},
   "outputs": [
    {
     "name": "stdout",
     "output_type": "stream",
     "text": [
      "Topic 0: 0.104*\"positive\" + 0.101*\"borderlands\" + 0.099*\"and\" + 0.099*\"you\" + 0.099*\"getting\" + 0.099*\"will\" + 0.099*\"im\" + 0.099*\"all\" + 0.099*\"on\" + 0.099*\"murder\"\n",
      "Top words for this topic:\n",
      "['positive', 'borderlands', 'and', 'you', 'getting', 'will', 'im', 'all', 'on', 'murder']\n",
      "\n",
      "\n",
      "Topic 1: 0.104*\"positive\" + 0.101*\"borderlands\" + 0.099*\"on\" + 0.099*\"and\" + 0.099*\"im\" + 0.099*\"murder\" + 0.099*\"will\" + 0.099*\"all\" + 0.099*\"getting\" + 0.099*\"you\"\n",
      "Top words for this topic:\n",
      "['positive', 'borderlands', 'on', 'and', 'im', 'murder', 'will', 'all', 'getting', 'you']\n",
      "\n",
      "\n",
      "Topic 2: 0.163*\"borderlands\" + 0.093*\"you\" + 0.093*\"getting\" + 0.093*\"all\" + 0.093*\"will\" + 0.093*\"murder\" + 0.093*\"im\" + 0.093*\"and\" + 0.093*\"on\" + 0.091*\"positive\"\n",
      "Top words for this topic:\n",
      "['borderlands', 'you', 'getting', 'all', 'will', 'murder', 'im', 'and', 'on', 'positive']\n",
      "\n",
      "\n"
     ]
    }
   ],
   "source": [
    "# Interpret the results and analyze language for each topic\n",
    "for idx, topic in lda_model.print_topics():\n",
    "    print(\"Topic {}: {}\".format(idx, topic))\n",
    "    print(\"Top words for this topic:\")\n",
    "    top_words = [word for word, _ in lda_model.show_topic(idx, topn=10)]  # Adjust topn as needed\n",
    "    print(top_words)\n",
    "    print(\"\\n\")"
   ]
  },
  {
   "cell_type": "code",
   "execution_count": null,
   "metadata": {},
   "outputs": [],
   "source": []
  }
 ],
 "metadata": {
  "kernelspec": {
   "display_name": "Python 3",
   "language": "python",
   "name": "python3"
  },
  "language_info": {
   "codemirror_mode": {
    "name": "ipython",
    "version": 3
   },
   "file_extension": ".py",
   "mimetype": "text/x-python",
   "name": "python",
   "nbconvert_exporter": "python",
   "pygments_lexer": "ipython3",
   "version": "3.10.2"
  }
 },
 "nbformat": 4,
 "nbformat_minor": 2
}
